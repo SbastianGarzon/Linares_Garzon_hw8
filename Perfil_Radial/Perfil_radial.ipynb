{
 "metadata": {
  "name": "",
  "signature": "sha256:a685e91d7cccf0d317d624910b6c1edd69367699efe22c0633635172869a5237"
 },
 "nbformat": 3,
 "nbformat_minor": 0,
 "worksheets": [
  {
   "cells": [
    {
     "cell_type": "code",
     "collapsed": false,
     "input": [
      "%pylab inline\n",
      "import matplotlib.pyplot as plt\n",
      "from scipy.fftpack import fft, fftfreq\n",
      "import Image\n",
      "import ImageOps\n",
      "from mpl_toolkits.mplot3d import Axes3D"
     ],
     "language": "python",
     "metadata": {},
     "outputs": []
    },
    {
     "cell_type": "heading",
     "level": 2,
     "metadata": {},
     "source": [
      "Perfil radial de las vesiculas, Por Juan Carlos Linares y Sebastian Garz\u00f3n"
     ]
    },
    {
     "cell_type": "markdown",
     "metadata": {},
     "source": [
      "El objetivo de este programa es encontrar los par\u00e1metros $ro$, $r1$, $\\phi$ y m mediante el m\u00e9todo MCMC con el prop\u00f3sito de caracterizar matematicamente las ves\u00edculas selecionadas teniendo en cuenta que estas est\u00e1n descritas de la forma:"
     ]
    },
    {
     "cell_type": "markdown",
     "metadata": {},
     "source": [
      "\\begin{equation}\n",
      "r(\\theta )=r_{o}+r_{1}sin(m\\theta+\\phi)\n",
      "\\end{equation}\n",
      "\n",
      "A continuaci\u00f3n se muestra la im\u00e1gen seleccionadas aleatoriamente para su estudio de : https://github.com/rudymmreina/imagenes_vesiculas2\n",
      "\n",
      "El programa sirve con cualquier imagen el \u00fanico cambio consistir\u00eda en cambiar el nombre del archivo y poner unas condiciones de xi, yi y m aproximadas al ver cada imagen. "
     ]
    },
    {
     "cell_type": "code",
     "collapsed": false,
     "input": [
      "#metodo que carga las 3 imagenes.\n",
      "ves_1= pylab.imread(\"guv_spim0087.tif\")\n",
      "imshow(ves_1,cmap='Greys_r')\n"
     ],
     "language": "python",
     "metadata": {},
     "outputs": []
    },
    {
     "cell_type": "markdown",
     "metadata": {},
     "source": [
      "Aunque es posible diferenciar claramente el l\u00edmite de las vesiculas, se realizar\u00e1n un filtro a las frecuencias bajas para que quede mejor demarcada, para ello se utilizar\u00e1 lo trabajado en la Tarea 5 mediante transformada de Fourier, adicionalmente se normalizar\u00e1 para que los valores se encuentren entre 0 y 1. A continuaci\u00f3n se mestran los m\u00e9todos utilizados para realizar los filtros anteriormente descritos:"
     ]
    },
    {
     "cell_type": "code",
     "collapsed": false,
     "input": [
      "#Tomado de Tarea4\n",
      "def filtroBajas(matriz):\n",
      "    delimitador=np.shape(matriz)\n",
      "    delFilas=delimitador[0]\n",
      "    delColumnas=delimitador[1]\n",
      "    radioMaximo= int(delColumnas/400)\n",
      "    mitadY=delFilas/2\n",
      "    mitadX=delColumnas/2\n",
      "    for i in range (delFilas):\n",
      "        for j in range(delColumnas):\n",
      "            radio=((i-mitadY)**2+(j-mitadX)**2)**0.5\n",
      "            if radio<=radioMaximo:\n",
      "                matriz[i][j]=0.0\n",
      "    return matriz"
     ],
     "language": "python",
     "metadata": {},
     "outputs": []
    },
    {
     "cell_type": "code",
     "collapsed": false,
     "input": [
      "#Filtro imagen 1.\n",
      "BVes_1 = fft2(ves_1) \n",
      "TB_ves1 = fftshift(BVes_1)\n",
      "filtroBajas(TB_ves1)\n",
      "Ves_1_Ok = abs(ifft2(TB_ves1))\n",
      "Ves_1_Ok=Ves_1_Ok/amax(Ves_1_Ok)"
     ],
     "language": "python",
     "metadata": {},
     "outputs": []
    },
    {
     "cell_type": "code",
     "collapsed": false,
     "input": [
      "fig=plt.figure(figsize=(20, 6))\n",
      "imshow(Ves_1_Ok,cmap='Greys_r')\n",
      "plt.title('Imagen 1 filtrada', size='20')"
     ],
     "language": "python",
     "metadata": {},
     "outputs": []
    },
    {
     "cell_type": "markdown",
     "metadata": {},
     "source": [
      "Aunque es complicado observar los cambios la herramienta 'cmap=hot' nos permite observar las diferencias entre la imagen original y la imagen filtrada. A continuaci\u00f3n se muestra el ejemplo del cambio entre la imagen original 1 y la imagen filtrada 1 ,en la cual el borde es mucho m\u00e1s claro,lo cual ilustra lo que suceden con las dem\u00e1s im\u00e1genes:"
     ]
    },
    {
     "cell_type": "code",
     "collapsed": false,
     "input": [
      "fig=plt.figure(figsize=(20, 6))\n",
      "ax = fig.add_subplot(1,2,1)\n",
      "ax.imshow(ves_1,cmap='hot')\n",
      "ax.set_title('Imagen 1 original', size='20')\n",
      "ax1 =fig.add_subplot (1,2,2)\n",
      "ax1.imshow(Ves_1_Ok,cmap='hot')\n",
      "ax1.set_title('Imagen 1 filtrada', size='20')"
     ],
     "language": "python",
     "metadata": {},
     "outputs": []
    },
    {
     "cell_type": "markdown",
     "metadata": {},
     "source": [
      "Para resolver el problema se us\u00f3 como gu\u00eda lo aprendido en la clase MCMC-Bayes disponible en : http://nbviewer.ipython.org/github/forero/ComputationalMethods/blob/master/notes/bayes_MCMC.ipynb"
     ]
    },
    {
     "cell_type": "heading",
     "level": 2,
     "metadata": {},
     "source": [
      "Metodos necesarios:"
     ]
    },
    {
     "cell_type": "markdown",
     "metadata": {},
     "source": [
      "Para lograr caracterizar vesiculas de las im\u00e1genes se necesitan los siguientes m\u00e9todos:"
     ]
    },
    {
     "cell_type": "code",
     "collapsed": false,
     "input": [
      "def my_model(tetha,r0,r1,m,phi):\n",
      "    r=r0+r1*sin(m*tetha+phi)\n",
      "    return r"
     ],
     "language": "python",
     "metadata": {},
     "outputs": []
    },
    {
     "cell_type": "code",
     "collapsed": false,
     "input": [
      "def log_likelihood(obs, model):\n",
      "    chi_cuadrado = (1.0/2.0)*sum((obs-model)**2)\n",
      "    return (-chi_cuadrado)"
     ],
     "language": "python",
     "metadata": {},
     "outputs": []
    },
    {
     "cell_type": "heading",
     "level": 2,
     "metadata": {},
     "source": [
      "Vesicula Imagen 1:"
     ]
    },
    {
     "cell_type": "code",
     "collapsed": false,
     "input": [
      "xi_walk = empty((0)) #Listas vacias para guardar todas las etapas.\n",
      "yi_walk = empty((0))\n",
      "r0_walk= empty((0))\n",
      "r1_walk=empty((0))\n",
      "m_walk=empty((0))\n",
      "phi_walk=empty((0))\n",
      "l_walk = empty((0))\n",
      "\n",
      "#Ya que a simple vista conocemos un poco de la naturaleza de la vesicula se iniciar\u00e1 el m\u00e9todo con valores...\n",
      "# ....aproximados y as\u00ed hacer el m\u00e9todo m\u00e1s eficiente.\n",
      "\n",
      "xi_walk = append(xi_walk,130)\n",
      "yi_walk = append(yi_walk,150)\n",
      "r0_walk= append(r0_walk,100)\n",
      "r1_walk = append(r1_walk, random.random())\n",
      "m_walk = append(m_walk,10)\n",
      "phi_walk= append(phi_walk,random.random())\n",
      "s_ves1=shape(Ves_1_Ok)\n",
      "# Se crea el modelo.\n",
      "theta = linspace(0,2*pi,5000)\n",
      "circulo = np.zeros((s_ves1[0],s_ves1[1]))\n",
      "for p in range (0,size(theta)):\n",
      "    j=int(xi_walk[0] + sin(p)*my_model(p,r0_walk[0],r1_walk[0],m_walk[0],phi_walk[0]))\n",
      "    i=int(yi_walk[0] + cos(p)*my_model(p,r0_walk[0],r1_walk[0],m_walk[0],phi_walk[0]))\n",
      "    if j<s_ves1[0] and i <s_ves1[1]:\n",
      "        circulo[j,i]=1\n",
      "#Se calcula la independencia entre los valores reales (Ves_1_OK) y el modelo (C\u00edrculo)\n",
      "l_walk = append(l_walk,log_likelihood(circulo,Ves_1_Ok))"
     ],
     "language": "python",
     "metadata": {},
     "outputs": []
    },
    {
     "cell_type": "code",
     "collapsed": false,
     "input": [
      "n_iterations = 10000\n",
      "for i in range(n_iterations):\n",
      "    xi_prime = abs(np.random.normal(xi_walk[i], 1))\n",
      "    yi_prime = abs(np.random.normal(yi_walk[i], 1))\n",
      "    m_prime = abs(np.random.normal(m_walk[i],1))\n",
      "    r0_prime = abs(np.random.normal(r0_walk[i], 1))\n",
      "    r1_prime = abs(np.random.normal(r1_walk[i], 1))\n",
      "    phi_prime = abs(np.random.normal(phi_walk[i], 0.1))\n",
      "    \n",
      "    circulo_1=np.zeros((s_ves1[0],s_ves1[1]))\n",
      "    posj=int_(sin(theta)*my_model(theta,r0_prime,r1_prime,m_prime,phi_prime)+xi_prime)\n",
      "    posi=int_(cos(theta)*my_model(theta,r0_prime,r1_prime,m_prime,phi_prime)+yi_prime)\n",
      "    circulo_1[posi, posj]=1\n",
      "    \n",
      "    l_prime = log_likelihood(Ves_1_Ok, circulo_1)\n",
      "    l_init = l_walk[i]\n",
      "\n",
      "    alpha = exp(l_prime-l_init)\n",
      "    if(a>=1.0):\n",
      "        xi_walk  = append(xi_walk, xi_prime)\n",
      "        yi_walk  = append(yi_walk, yi_prime)\n",
      "        m_walk = append(m_walk, m_prime)\n",
      "        r0_walk = append(r0_walk, r0_prime)\n",
      "        r1_walk = append(r1_walk, r1_prime)\n",
      "        phi_walk = append(phi_walk, phi_prime)\n",
      "        l_walk = append(l_walk, l_prime)\n",
      "    else:\n",
      "        beta = random.random()\n",
      "        if(beta<=alpha):\n",
      "            xi_walk  = append(xi_walk,xi_prime)\n",
      "            yi_walk  = append(yi_walk,yi_prime)\n",
      "            m_walk = append(m_walk,m_prime)\n",
      "            r0_walk = append(r0_walk,r0_prime)\n",
      "            r1_walk = append(r1_walk,r1_prime)\n",
      "            phi_walk = append(phi_walk,phi_prime)\n",
      "            l_walk = append(l_walk, l_prime)\n",
      "        else:\n",
      "            xi_walk  = append(xi_walk,xi_walk[i])\n",
      "            yi_walk  = append(yi_walk,yi_walk[i])\n",
      "            m_walk = append(m_walk,m_walk[i])\n",
      "            r0_walk = append(r0_walk,r0_walk[i])\n",
      "            r1_walk = append(r1_walk,r1_walk[i])\n",
      "            phi_walk = append(phi_walk,phi_walk[i])\n",
      "            l_walk = append(l_walk, l_walk[i])"
     ],
     "language": "python",
     "metadata": {},
     "outputs": []
    },
    {
     "cell_type": "code",
     "collapsed": false,
     "input": [
      "max_likelihood_id = argmax(l_walk)\n",
      "best_x_v1 = (xi_walk[max_likelihood_id])\n",
      "best_y_v1 = (yi_walk[max_likelihood_id])\n",
      "best_m_v1 = int(m_walk[max_likelihood_id])\n",
      "best_phi_v1 = (phi_walk[max_likelihood_id])\n",
      "best_r0_v1 = (r0_walk[max_likelihood_id])\n",
      "best_r1_v1 = r1_walk[max_likelihood_id]"
     ],
     "language": "python",
     "metadata": {},
     "outputs": []
    },
    {
     "cell_type": "heading",
     "level": 1,
     "metadata": {},
     "source": [
      "Los resultados:"
     ]
    },
    {
     "cell_type": "markdown",
     "metadata": {},
     "source": [
      "Teniendo en cuenta que se realizaron 1000 iteraciones con condiciones iniciales para el m\u00e9todo de : $ro=100$ , $xi=130$ , $yi=150$ y $m=3$, se obtuvo graficamente el siguiente resultado:"
     ]
    },
    {
     "cell_type": "code",
     "collapsed": false,
     "input": [
      "fig=plt.figure(figsize=(20, 6))\n",
      "ax = fig.add_subplot(1,3,3)\n",
      "plot(best_x_v1 + cos(theta)*my_model(theta,best_r0_v1,best_r1_v1,best_m_v1,best_phi_v1), best_y_v1 + sin(theta)*my_model(theta,best_r0_v1,best_r1_v1,best_m_v1,best_phi_v1),c='red',linewidth=2.0)\n",
      "imshow(Ves_1_Ok, cmap = cm.Greys_r)\n",
      "plt.title(\"Imagen+modelo\",size='20')\n",
      "ax1 =fig.add_subplot (1,3,2)\n",
      "imshow(Ves_1_Ok, cmap = cm.Greys_r)\n",
      "ax1.set_title('Imagen 1 filtrada', size='20')\n",
      "ax2 =fig.add_subplot (1,3,1)\n",
      "plot(best_x_v1 + cos(theta)*my_model(theta,best_r0_v1,best_r1_v1,best_m_v1,best_phi_v1), best_y_v1 + sin(theta)*my_model(theta,best_r0_v1,best_r1_v1,best_m_v1,best_phi_v1),c='red',linewidth=2.0)\n",
      "plt.title(\"Modelo\")\n",
      "plt.xlim(0,320)\n",
      "plt.ylim(0,320)"
     ],
     "language": "python",
     "metadata": {},
     "outputs": []
    },
    {
     "cell_type": "code",
     "collapsed": false,
     "input": [
      "print \"Se puede observar que el metodo detecto mejores valores que los iniciales y que al final los valores que mas se adaptan al modelo son: \"\n",
      "print \"El valor de xo es \"+str(best_x_v1)\n",
      "print \"El valor de yo es \"+ str(best_y_v1)\n",
      "print \"El valor de m es \"+str(best_m_v1)\n",
      "print \"El valor de ro es \"+str(best_r0_v1)\n",
      "print \"El valor de r1 es \"+str(best_r1_v1)"
     ],
     "language": "python",
     "metadata": {},
     "outputs": []
    }
   ],
   "metadata": {}
  }
 ]
}